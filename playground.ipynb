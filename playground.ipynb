{
 "cells": [
  {
   "cell_type": "code",
   "execution_count": 10,
   "metadata": {
    "collapsed": false
   },
   "outputs": [
    {
     "data": {
      "text/plain": [
       "[u'Paper Class', u'Paper Class', u'Paper Class']"
      ]
     },
     "execution_count": 10,
     "metadata": {},
     "output_type": "execute_result"
    }
   ],
   "source": [
    "import arrow\n",
    "from django.db.models import When, Value, Case, CharField\n",
    "\n",
    "a_year_ago = arrow.now().replace(years=-1).format()\n",
    "\n",
    "two_years_ago = arrow.now().replace(years=-1).format()\n",
    "\n",
    "# User.objects.create(registered=a_year_ago)\n",
    "# User.objects.create(registered=two_years_ago)\n",
    "\n",
    "User.objects.update(\n",
    "     loyalty_status=Case(\n",
    "         When(registered__lte=a_year_ago,\n",
    "              then=Value(\"Paper Class\")),\n",
    "         When(registered__lte=two_years_ago,\n",
    "              then=Value(\"Wood Class\")),\n",
    "         output_field=CharField()\n",
    "     ),\n",
    ")\n",
    "\n",
    "[user.loyalty_status for user in User.objects.all()]"
   ]
  },
  {
   "cell_type": "code",
   "execution_count": null,
   "metadata": {
    "collapsed": true
   },
   "outputs": [],
   "source": []
  },
  {
   "cell_type": "code",
   "execution_count": null,
   "metadata": {
    "collapsed": true
   },
   "outputs": [],
   "source": []
  }
 ],
 "metadata": {
  "kernelspec": {
   "display_name": "Django Shell-Plus",
   "language": "python",
   "name": "django_extensions"
  },
  "language_info": {
   "codemirror_mode": {
    "name": "ipython",
    "version": 2
   },
   "file_extension": ".py",
   "mimetype": "text/x-python",
   "name": "python",
   "nbconvert_exporter": "python",
   "pygments_lexer": "ipython2",
   "version": "2.7.10"
  }
 },
 "nbformat": 4,
 "nbformat_minor": 0
}
