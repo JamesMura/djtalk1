{
 "cells": [
  {
   "cell_type": "markdown",
   "metadata": {
    "collapsed": false,
    "slideshow": {
     "slide_type": "slide"
    }
   },
   "source": [
    "### Working With Database Conditional Expressions In Django\n",
    "\n",
    "### JAMES MURANGA \n",
    "\n",
    "\n",
    "In this talk I will go over the Database conditional Expressions features of Django.\n",
    "\n",
    "How you can use if, elif , else in filters, annotations, aggregations, and updates. \n",
    "\n",
    "I will also go over how you can use these to build some interesting aggregations without resorting to writing native SQL. \n",
    "\n"
   ]
  },
  {
   "cell_type": "code",
   "execution_count": 10,
   "metadata": {
    "collapsed": false,
    "slideshow": {
     "slide_type": "slide"
    }
   },
   "outputs": [
    {
     "data": {
      "text/plain": [
       "[u'Paper Class', u'Paper Class', u'Paper Class']"
      ]
     },
     "execution_count": 10,
     "metadata": {},
     "output_type": "execute_result"
    }
   ],
   "source": [
    "\n",
    "import arrow\n",
    "from django.db.models import When, Value, Case, CharField\n",
    "\n",
    "a_year_ago = arrow.now().replace(years=-1).format()\n",
    "\n",
    "two_years_ago = arrow.now().replace(years=-1).format()\n",
    "\n",
    "# User.objects.create(registered=a_year_ago)\n",
    "# User.objects.create(registered=two_years_ago)\n",
    "\n",
    "User.objects.update(\n",
    "     loyalty_status=Case(\n",
    "         When(registered__lte=a_year_ago,\n",
    "              then=Value(\"Paper Class\")),\n",
    "         When(registered__lte=two_years_ago,\n",
    "              then=Value(\"Wood Class\")),\n",
    "         output_field=CharField()\n",
    "     ),\n",
    ")\n",
    "\n",
    "[user.loyalty_status for user in User.objects.all()]"
   ]
  },
  {
   "cell_type": "code",
   "execution_count": null,
   "metadata": {
    "collapsed": true
   },
   "outputs": [],
   "source": []
  }
 ],
 "metadata": {
  "celltoolbar": "Slideshow",
  "kernelspec": {
   "display_name": "Django Shell-Plus",
   "language": "python",
   "name": "django_extensions"
  },
  "language_info": {
   "codemirror_mode": {
    "name": "ipython",
    "version": 2
   },
   "file_extension": ".py",
   "mimetype": "text/x-python",
   "name": "python",
   "nbconvert_exporter": "python",
   "pygments_lexer": "ipython2",
   "version": "2.7.10"
  }
 },
 "nbformat": 4,
 "nbformat_minor": 0
}
